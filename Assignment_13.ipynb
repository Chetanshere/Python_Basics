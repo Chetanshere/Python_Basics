{
 "cells": [
  {
   "cell_type": "markdown",
   "id": "4bc8a23f",
   "metadata": {},
   "source": [
    "1) What advantages do Excel spreadsheets have over CSV spreadsheets?"
   ]
  },
  {
   "cell_type": "markdown",
   "id": "0bcaec10",
   "metadata": {},
   "source": [
    "Answer:\n",
    "\n",
    "1) Excel spredshits are better off at formatting as it offers various fonts , styles , colours and cells.\n",
    "\n",
    "2) Excel spreadshits provides plethora of formulas and functions to perform complex calculations.\n",
    "\n",
    "3) Excel is equipped with better charts and graph options.\n",
    "\n",
    "4) Excels inbuilt data validation allows to validate the data easily."
   ]
  },
  {
   "cell_type": "markdown",
   "id": "af8f0e14",
   "metadata": {},
   "source": [
    "2) What do you pass to csv.reader() and csv.writer() to create reader and writer objects?"
   ]
  },
  {
   "cell_type": "code",
   "execution_count": 2,
   "id": "52488b44",
   "metadata": {},
   "outputs": [],
   "source": [
    "import csv\n",
    "\n",
    "with open('pandas class 2.csv','r') as csvfile:\n",
    "    csvreader = csv.reader(csvfile)"
   ]
  },
  {
   "cell_type": "code",
   "execution_count": 3,
   "id": "c818a482",
   "metadata": {},
   "outputs": [],
   "source": [
    "import csv\n",
    "\n",
    "with open('pandas class 2.csv','w') as csvfile:\n",
    "    csvwriter= csv.writer(csvfile)"
   ]
  },
  {
   "cell_type": "markdown",
   "id": "6d336084",
   "metadata": {},
   "source": [
    "3) What modes do File objects for reader and writer objects need to be opened in?"
   ]
  },
  {
   "cell_type": "markdown",
   "id": "39c35649",
   "metadata": {},
   "source": [
    "r for reading – The file pointer is placed at the beginning of the file. \n",
    "\n",
    "w Opens a file for writing only"
   ]
  },
  {
   "cell_type": "markdown",
   "id": "be5f9926",
   "metadata": {},
   "source": [
    "4) What method takes a list argument and writes it to a CSV file?"
   ]
  },
  {
   "cell_type": "markdown",
   "id": "3cbbdd5a",
   "metadata": {},
   "source": [
    "csv.writerow() method."
   ]
  },
  {
   "cell_type": "markdown",
   "id": "e44cd93e",
   "metadata": {},
   "source": [
    "5) What do the keyword arguments delimiter and line terminator do?"
   ]
  },
  {
   "cell_type": "markdown",
   "id": "cfcc43b0",
   "metadata": {},
   "source": [
    "Answer:\n",
    "\n",
    "Technically a delimiter goes between things, perhaps in order to tell you where one field ends and another begins, such as in a comma-separated-value (CSV) file. A terminator goes at the end of something, terminating the line/input/whatever."
   ]
  },
  {
   "cell_type": "markdown",
   "id": "518bfbd3",
   "metadata": {},
   "source": [
    "6) What function takes a string of JSON data and returns a Python data structure?"
   ]
  },
  {
   "cell_type": "markdown",
   "id": "14bc7979",
   "metadata": {},
   "source": [
    "json.loads(a) it takes string or byte array and returns a python object"
   ]
  },
  {
   "cell_type": "markdown",
   "id": "31b417d8",
   "metadata": {},
   "source": [
    "7) What function takes a Python data structure and returns a string of JSON data?"
   ]
  },
  {
   "cell_type": "markdown",
   "id": "d202cff1",
   "metadata": {},
   "source": [
    "json.dumps() : it takes a python data structure and returns a string of Json data"
   ]
  }
 ],
 "metadata": {
  "kernelspec": {
   "display_name": "Python 3 (ipykernel)",
   "language": "python",
   "name": "python3"
  },
  "language_info": {
   "codemirror_mode": {
    "name": "ipython",
    "version": 3
   },
   "file_extension": ".py",
   "mimetype": "text/x-python",
   "name": "python",
   "nbconvert_exporter": "python",
   "pygments_lexer": "ipython3",
   "version": "3.9.12"
  }
 },
 "nbformat": 4,
 "nbformat_minor": 5
}
