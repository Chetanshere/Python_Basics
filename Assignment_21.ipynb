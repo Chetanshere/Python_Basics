{
 "cells": [
  {
   "cell_type": "markdown",
   "id": "cf25fd32",
   "metadata": {},
   "source": [
    "1. Add the current date to the text file today.txt as a string."
   ]
  },
  {
   "cell_type": "code",
   "execution_count": 1,
   "id": "c4b4245b",
   "metadata": {},
   "outputs": [
    {
     "data": {
      "text/plain": [
       "'2023-05-15'"
      ]
     },
     "execution_count": 1,
     "metadata": {},
     "output_type": "execute_result"
    }
   ],
   "source": [
    "import datetime\n",
    "from datetime import date\n",
    "now = date.today()\n",
    "cur_date = now.isoformat()\n",
    "cur_date"
   ]
  },
  {
   "cell_type": "code",
   "execution_count": 2,
   "id": "04a030df",
   "metadata": {},
   "outputs": [],
   "source": [
    "with open('today.txt','w') as file:\n",
    "    file.write(cur_date)"
   ]
  },
  {
   "cell_type": "markdown",
   "id": "5f6e5d8a",
   "metadata": {},
   "source": [
    "2. Read the text file today.txt into the string today_string"
   ]
  },
  {
   "cell_type": "code",
   "execution_count": 3,
   "id": "f1c7ed56",
   "metadata": {},
   "outputs": [
    {
     "data": {
      "text/plain": [
       "'2023-05-15'"
      ]
     },
     "execution_count": 3,
     "metadata": {},
     "output_type": "execute_result"
    }
   ],
   "source": [
    "with open('today.txt','r') as file:\n",
    "    today_string = file.read()\n",
    "today_string"
   ]
  },
  {
   "cell_type": "markdown",
   "id": "31441bbd",
   "metadata": {},
   "source": [
    "3. Parse the date from today_string."
   ]
  },
  {
   "cell_type": "code",
   "execution_count": 4,
   "id": "b9fae0b8",
   "metadata": {},
   "outputs": [
    {
     "data": {
      "text/plain": [
       "datetime.datetime(2023, 5, 15, 0, 0)"
      ]
     },
     "execution_count": 4,
     "metadata": {},
     "output_type": "execute_result"
    }
   ],
   "source": [
    "from datetime import datetime\n",
    "format = '%Y-%m-%d'\n",
    "datetime.strptime(today_string,format)"
   ]
  },
  {
   "cell_type": "markdown",
   "id": "fadd6b3d",
   "metadata": {},
   "source": [
    "4. List the files in your current directory"
   ]
  },
  {
   "cell_type": "code",
   "execution_count": 5,
   "id": "f8d0dd5e",
   "metadata": {},
   "outputs": [
    {
     "data": {
      "text/plain": [
       "['.android',\n",
       " '.conda',\n",
       " '.condarc',\n",
       " '.continuum',\n",
       " '.cufflinks',\n",
       " '.gitconfig',\n",
       " '.idlerc',\n",
       " '.ipynb_checkpoints',\n",
       " '.ipython',\n",
       " '.jupyter',\n",
       " '.matplotlib',\n",
       " '.ms-ad',\n",
       " '.python_history',\n",
       " '.spyder-py3',\n",
       " '3D Objects',\n",
       " 'ADS.ipynb',\n",
       " 'anaconda3',\n",
       " 'AppData',\n",
       " 'Application Data',\n",
       " 'Assignment 10.ipynb',\n",
       " 'Assignment 11.ipynb',\n",
       " 'Assignment 12.ipynb',\n",
       " 'Assignment 4.ipynb',\n",
       " 'assignment 5.ipynb',\n",
       " 'Assignment 6.ipynb',\n",
       " 'Assignment 7.ipynb',\n",
       " 'assignment 8.ipynb',\n",
       " 'Assignment 9.ipynb',\n",
       " 'Assignment python 3.ipynb',\n",
       " 'Assignment.python1.ipynb',\n",
       " 'Assignment.python2.ipynb',\n",
       " 'Assignment_13.ipynb',\n",
       " 'Assignment_14.ipynb',\n",
       " 'Assignment_15.ipynb',\n",
       " 'Assignment_16.ipynb',\n",
       " 'Assignment_17.ipynb',\n",
       " 'Assignment_18.ipynb',\n",
       " 'Assignment_19.ipynb',\n",
       " 'Assignment_20.ipynb',\n",
       " 'Assignment_21.ipynb',\n",
       " 'AttributeDataSet.csv.crdownload',\n",
       " 'books.csv',\n",
       " 'books.db',\n",
       " 'chetan.txt',\n",
       " 'Complete python module',\n",
       " 'Contacts',\n",
       " 'Cookies',\n",
       " 'Couseraassignment.ipynb',\n",
       " 'Documents',\n",
       " 'Downloads',\n",
       " 'ds_salaries.csv',\n",
       " 'Exception handling.ipynb',\n",
       " 'Exceptionhandling.ipynb',\n",
       " 'Favorites',\n",
       " 'For Loops.ipynb',\n",
       " 'FSDS Tasks.ipynb',\n",
       " 'Functions .ipynb',\n",
       " 'Functions in python.ipynb',\n",
       " 'graph practice.ipynb',\n",
       " 'Graph.ipynb',\n",
       " 'HTML for web scraping 14 aug.ipynb',\n",
       " 'HTML for web scraping 14 august.ipynb',\n",
       " 'IDS_ALLCountries_Data.csv',\n",
       " 'IDS_CSV',\n",
       " 'IDS_CSV.zip',\n",
       " 'if elif else.ipynb',\n",
       " 'if else elif 2.ipynb',\n",
       " 'if else elif.ipynb',\n",
       " 'if, elif, else statements.ipynb',\n",
       " 'IMG20230217143320 (2).jpg',\n",
       " 'IntelGraphicsProfiles',\n",
       " 'iterator, generator, map, reduce, filter and file ops.ipynb',\n",
       " 'Jedi',\n",
       " 'Links',\n",
       " 'List and Tuples notes 28 july modified on 13 aug.ipynb',\n",
       " 'List and Tuples notes 28 july.ipynb',\n",
       " 'List,tuples,dict,set 20 aug.ipynb',\n",
       " 'Lists and Tuples.ipynb',\n",
       " 'Local Settings',\n",
       " 'm5 assnmnt.ipynb',\n",
       " 'Microsoft',\n",
       " 'MicrosoftEdgeBackups',\n",
       " 'miktex-console.lock',\n",
       " 'Music',\n",
       " 'My Documents',\n",
       " 'NetHood',\n",
       " 'NTUSER.DAT',\n",
       " 'ntuser.dat.LOG1',\n",
       " 'ntuser.dat.LOG2',\n",
       " 'NTUSER.DAT{fb93b61d-ecf6-11ed-85da-d3129728b97d}.TM.blf',\n",
       " 'NTUSER.DAT{fb93b61d-ecf6-11ed-85da-d3129728b97d}.TMContainer00000000000000000001.regtrans-ms',\n",
       " 'NTUSER.DAT{fb93b61d-ecf6-11ed-85da-d3129728b97d}.TMContainer00000000000000000002.regtrans-ms',\n",
       " 'ntuser.ini',\n",
       " 'numpy class 1 and graph.ipynb',\n",
       " 'OneDrive',\n",
       " \"OneDrive - Kalyan Citizens Education Society's B. K. Birla College of Arts, Science & Commerce\",\n",
       " 'pandas class 1.ipynb',\n",
       " 'pandas class 2.csv',\n",
       " 'pandas class 3.ipynb',\n",
       " 'pandasclass2.ipynb',\n",
       " 'Postman',\n",
       " 'PrintHood',\n",
       " 'Programming Assignment 10.ipynb',\n",
       " 'Programming assignment 11.ipynb',\n",
       " 'Programming assignment 12.ipynb',\n",
       " 'programming assignment 2.ipynb',\n",
       " 'programming assignment 3.ipynb',\n",
       " 'programming assignment 4.ipynb',\n",
       " 'programming assignment 5.ipynb',\n",
       " 'programming assignment 6.ipynb',\n",
       " 'programming assignment 7.ipynb',\n",
       " 'programming assignment 8.ipynb',\n",
       " 'Programming assignment 9.ipynb',\n",
       " 'Programming_Assignment1.ipynb',\n",
       " 'Programming_assignment_13.ipynb',\n",
       " 'Programming_Assignment_14.ipynb',\n",
       " 'Programming_Assignment_15.ipynb',\n",
       " 'Programming_Assignment_16.ipynb',\n",
       " 'Programming_Assignment_17.ipynb',\n",
       " 'Programming_Assignment_18.ipynb',\n",
       " 'PycharmProjects',\n",
       " 'python review scraper project.ipynb',\n",
       " 'Pythonclass1.ipynb',\n",
       " 'q3p1.sce',\n",
       " 'Recent',\n",
       " 'Saved Games',\n",
       " 'seaborn-data',\n",
       " 'Searches',\n",
       " 'SendTo',\n",
       " 'SQLDB.ipynb',\n",
       " 'Start Menu',\n",
       " 'Templates',\n",
       " 'test.sudh',\n",
       " 'test.txt',\n",
       " 'test1.txt',\n",
       " 'test2.txt',\n",
       " 'test5.txt',\n",
       " 'today.txt',\n",
       " 'Tracing',\n",
       " 'Untitled.ipynb',\n",
       " 'Untitled1.ipynb',\n",
       " 'Untitled10.ipynb',\n",
       " 'Untitled11.ipynb',\n",
       " 'Untitled12.ipynb',\n",
       " 'Untitled13.ipynb',\n",
       " 'Untitled14.ipynb',\n",
       " 'Untitled15.ipynb',\n",
       " 'Untitled16.ipynb',\n",
       " 'Untitled17.ipynb',\n",
       " 'Untitled18.ipynb',\n",
       " 'Untitled19.ipynb',\n",
       " 'Untitled2.ipynb',\n",
       " 'Untitled3.ipynb',\n",
       " 'Untitled4.ipynb',\n",
       " 'Untitled5.ipynb',\n",
       " 'Untitled6.ipynb',\n",
       " 'Untitled7.ipynb',\n",
       " 'Untitled8.ipynb',\n",
       " 'Untitled9.ipynb',\n",
       " 'Videos',\n",
       " 'While loop.ipynb',\n",
       " 'while loops .ipynb',\n",
       " 'While loops 2.ipynb',\n",
       " 'while loops.ipynb',\n",
       " 'Windows_file.zip',\n",
       " 'z test t test .ipynb']"
      ]
     },
     "execution_count": 5,
     "metadata": {},
     "output_type": "execute_result"
    }
   ],
   "source": [
    "import os\n",
    "os.listdir('.')"
   ]
  },
  {
   "cell_type": "markdown",
   "id": "b7a4d620",
   "metadata": {},
   "source": [
    "5. Create a list of all of the files in your parent directory (minimum five files should be available)."
   ]
  },
  {
   "cell_type": "code",
   "execution_count": 6,
   "id": "5bb93050",
   "metadata": {},
   "outputs": [
    {
     "data": {
      "text/plain": [
       "['abc', 'All Users', 'Default', 'Default User', 'desktop.ini', 'Public']"
      ]
     },
     "execution_count": 6,
     "metadata": {},
     "output_type": "execute_result"
    }
   ],
   "source": [
    "os.listdir('..')"
   ]
  },
  {
   "cell_type": "markdown",
   "id": "617d5578",
   "metadata": {},
   "source": [
    "6. Use multiprocessing to create three separate processes. Make each one wait a random number of\n",
    "seconds between one and five, print the current time, and then exit."
   ]
  },
  {
   "cell_type": "code",
   "execution_count": 7,
   "id": "68c0a0d5",
   "metadata": {},
   "outputs": [],
   "source": [
    "import multiprocessing\n",
    "\n",
    "def printsec(seconds):\n",
    "    from datetime import datetime\n",
    "    from time import sleep\n",
    "    sleep(seconds)\n",
    "    print('wait', seconds, 'seconds, time is', datetime.utcnow())\n",
    "    \n",
    "if __name__ == '__main__':\n",
    "    import random    \n",
    "    for n in range(3):\n",
    "        seconds = random.random()\n",
    "        proc = multiprocessing.Process(target=printsec, args=(seconds,))\n",
    "        proc.start()"
   ]
  },
  {
   "cell_type": "code",
   "execution_count": null,
   "id": "ebadf236",
   "metadata": {},
   "outputs": [],
   "source": [
    "!python multi.py"
   ]
  },
  {
   "cell_type": "markdown",
   "id": "913394aa",
   "metadata": {},
   "source": [
    "7. Create a date object of your day of birth."
   ]
  },
  {
   "cell_type": "code",
   "execution_count": 12,
   "id": "c4ad08d8",
   "metadata": {},
   "outputs": [
    {
     "data": {
      "text/plain": [
       "datetime.date(2001, 12, 24)"
      ]
     },
     "execution_count": 12,
     "metadata": {},
     "output_type": "execute_result"
    }
   ],
   "source": [
    "my_date = date(2001,12,24)\n",
    "my_date"
   ]
  },
  {
   "cell_type": "markdown",
   "id": "e4f83487",
   "metadata": {},
   "source": [
    "8. What day of the week was your day of birth?"
   ]
  },
  {
   "cell_type": "code",
   "execution_count": 13,
   "id": "ff5a583e",
   "metadata": {},
   "outputs": [
    {
     "data": {
      "text/plain": [
       "0"
      ]
     },
     "execution_count": 13,
     "metadata": {},
     "output_type": "execute_result"
    }
   ],
   "source": [
    "my_date.weekday()"
   ]
  },
  {
   "cell_type": "markdown",
   "id": "b85b0808",
   "metadata": {},
   "source": [
    "9. When will you be (or when were you) 10,000 days old?"
   ]
  },
  {
   "cell_type": "code",
   "execution_count": 14,
   "id": "ca592789",
   "metadata": {},
   "outputs": [
    {
     "data": {
      "text/plain": [
       "datetime.date(2029, 5, 11)"
      ]
     },
     "execution_count": 14,
     "metadata": {},
     "output_type": "execute_result"
    }
   ],
   "source": [
    "from datetime import timedelta\n",
    "day10000 = my_date + timedelta(days=10000)\n",
    "day10000"
   ]
  },
  {
   "cell_type": "code",
   "execution_count": null,
   "id": "2aa7e887",
   "metadata": {},
   "outputs": [],
   "source": []
  }
 ],
 "metadata": {
  "kernelspec": {
   "display_name": "Python 3 (ipykernel)",
   "language": "python",
   "name": "python3"
  },
  "language_info": {
   "codemirror_mode": {
    "name": "ipython",
    "version": 3
   },
   "file_extension": ".py",
   "mimetype": "text/x-python",
   "name": "python",
   "nbconvert_exporter": "python",
   "pygments_lexer": "ipython3",
   "version": "3.9.12"
  }
 },
 "nbformat": 4,
 "nbformat_minor": 5
}
