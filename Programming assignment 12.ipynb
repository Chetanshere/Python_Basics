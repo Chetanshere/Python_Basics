{
 "cells": [
  {
   "cell_type": "markdown",
   "id": "ee6163f4",
   "metadata": {},
   "source": [
    "1) Write a Python program to Extract Unique values dictionary values?"
   ]
  },
  {
   "cell_type": "code",
   "execution_count": 1,
   "id": "33d1c290",
   "metadata": {},
   "outputs": [
    {
     "name": "stdout",
     "output_type": "stream",
     "text": [
      "[1, 2, 3, 4]\n"
     ]
    }
   ],
   "source": [
    "def unique_values(d):\n",
    "    # Create a set from the values of the dictionary\n",
    "    unique_set = set(d.values())\n",
    "\n",
    "    # Convert the set back to a list and return the result\n",
    "    return list(unique_set)\n",
    "\n",
    "d = {\"a\": 1, \"b\": 2, \"c\": 3, \"d\": 1, \"e\":4 , \"f\": 3}\n",
    "result = unique_values(d)\n",
    "print(result)\n"
   ]
  },
  {
   "cell_type": "markdown",
   "id": "fc134eb7",
   "metadata": {},
   "source": [
    "2) Write a Python program to find the sum of all items in a dictionary?"
   ]
  },
  {
   "cell_type": "code",
   "execution_count": 3,
   "id": "5027b4bf",
   "metadata": {},
   "outputs": [
    {
     "name": "stdout",
     "output_type": "stream",
     "text": [
      "10\n"
     ]
    }
   ],
   "source": [
    "def sum_dict(d):\n",
    "    sum = 0\n",
    "    for i in d.values():\n",
    "        sum += i\n",
    "    return sum\n",
    "\n",
    "d = {\"a\": 1, \"b\": 2, \"c\": 3, \"d\": 4}\n",
    "result = sum_dict(d)\n",
    "print(result)"
   ]
  },
  {
   "cell_type": "markdown",
   "id": "990dd2c9",
   "metadata": {},
   "source": [
    "3) Write a Python program to Merging two Dictionaries?"
   ]
  },
  {
   "cell_type": "code",
   "execution_count": 5,
   "id": "9356cb9e",
   "metadata": {},
   "outputs": [
    {
     "name": "stdout",
     "output_type": "stream",
     "text": [
      "Merged dictionary : {'a': 1, 'b': 2, 'c': 3, 'd': 4, 'e': 5, 'f': 6}\n"
     ]
    }
   ],
   "source": [
    "Dict1 = {'a': 1, 'b': 2, 'c': 3}\n",
    "Dict2 = {'d': 4, 'e': 5, 'f': 6}\n",
    "\n",
    "Dict1.update(Dict2)\n",
    "\n",
    "print(\"Merged dictionary :\" ,Dict1)\n"
   ]
  },
  {
   "cell_type": "markdown",
   "id": "52ddb2e8",
   "metadata": {},
   "source": [
    "4) Write a Python program to convert key-values list to flat dictionary?"
   ]
  },
  {
   "cell_type": "code",
   "execution_count": 7,
   "id": "c12f02c1",
   "metadata": {},
   "outputs": [
    {
     "name": "stdout",
     "output_type": "stream",
     "text": [
      "Dictionary is:  {'a': 0, 'b': -2, 'c': 7}\n"
     ]
    }
   ],
   "source": [
    "key_value_list = [(\"a\", 0), (\"b\", -2), (\"c\", 7)]\n",
    "\n",
    "flat_dict = {}\n",
    "\n",
    "for i,j in key_value_list:\n",
    "    flat_dict[i] = j\n",
    "\n",
    "print(\"Dictionary is: \",flat_dict)\n"
   ]
  },
  {
   "cell_type": "markdown",
   "id": "2a574ce9",
   "metadata": {},
   "source": [
    "5) Write a Python program to insertion at the beginning in OrderedDict?"
   ]
  },
  {
   "cell_type": "code",
   "execution_count": 8,
   "id": "bc9d60b8",
   "metadata": {},
   "outputs": [
    {
     "name": "stdout",
     "output_type": "stream",
     "text": [
      "OrderedDict([('b', 2), ('a', 1)])\n"
     ]
    }
   ],
   "source": [
    "from collections import OrderedDict\n",
    "od = OrderedDict()\n",
    "od.update({'a': 1})\n",
    "od.move_to_end('a', last=False)\n",
    "\n",
    "od.update({'b': 2})\n",
    "od.move_to_end('b', last=False)\n",
    "\n",
    "print(od)\n"
   ]
  },
  {
   "cell_type": "markdown",
   "id": "71e7af7f",
   "metadata": {},
   "source": [
    "6) Write a Python program to check order of character in string using OrderedDict()?"
   ]
  },
  {
   "cell_type": "code",
   "execution_count": 9,
   "id": "0ef241e6",
   "metadata": {},
   "outputs": [
    {
     "name": "stdout",
     "output_type": "stream",
     "text": [
      "True\n"
     ]
    }
   ],
   "source": [
    "# Import the OrderedDict class from the collections module\n",
    "from collections import OrderedDict\n",
    "\n",
    "# Function to check the order of characters in a string\n",
    "def check_order(string1, string2):\n",
    "    # Create OrderedDict objects for both strings\n",
    "    od1 = OrderedDict()\n",
    "    od2 = OrderedDict()\n",
    "\n",
    "    # Iterate through each string and add each character as a key to the OrderedDict object\n",
    "    for char in string1:\n",
    "        od1[char] = None\n",
    "\n",
    "    for char in string2:\n",
    "        od2[char] = None\n",
    "\n",
    "    # Compare the OrderedDict objects\n",
    "    return od1 == od2\n",
    "\n",
    "# Test the function with two strings\n",
    "string1 = \"hello\"\n",
    "string2 = \"helol\"\n",
    "\n",
    "print(check_order(string1, string2))\n"
   ]
  },
  {
   "cell_type": "markdown",
   "id": "d11a7adf",
   "metadata": {},
   "source": [
    "7) Write a Python program to sort Python Dictionaries by Key or Value?"
   ]
  },
  {
   "cell_type": "code",
   "execution_count": 10,
   "id": "9836761b",
   "metadata": {},
   "outputs": [
    {
     "name": "stdout",
     "output_type": "stream",
     "text": [
      "{'chetan': 9, 'ravish': 10, 'rohit': 15, 'sriraj': 32, 'yash': 2}\n"
     ]
    }
   ],
   "source": [
    "Dict = {'ravish': 10, 'chetan': 9,\n",
    "\t\t'rohit': 15, 'yash': 2, 'sriraj': 32}\n",
    "\n",
    "Keys = list(Dict.keys())\n",
    "Keys.sort()\n",
    "sorted_dict = {i: Dict[i] for i in Keys}\n",
    "\n",
    "print(sorted_dict)\n"
   ]
  },
  {
   "cell_type": "code",
   "execution_count": null,
   "id": "e6ad8a5d",
   "metadata": {},
   "outputs": [],
   "source": []
  }
 ],
 "metadata": {
  "kernelspec": {
   "display_name": "Python 3 (ipykernel)",
   "language": "python",
   "name": "python3"
  },
  "language_info": {
   "codemirror_mode": {
    "name": "ipython",
    "version": 3
   },
   "file_extension": ".py",
   "mimetype": "text/x-python",
   "name": "python",
   "nbconvert_exporter": "python",
   "pygments_lexer": "ipython3",
   "version": "3.9.12"
  }
 },
 "nbformat": 4,
 "nbformat_minor": 5
}
