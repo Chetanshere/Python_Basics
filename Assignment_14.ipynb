{
 "cells": [
  {
   "cell_type": "markdown",
   "id": "d75aebfb",
   "metadata": {},
   "source": [
    "1) What does RGBA stand for?"
   ]
  },
  {
   "cell_type": "markdown",
   "id": "42062e7b",
   "metadata": {},
   "source": [
    "Red Green Blue Alpha"
   ]
  },
  {
   "cell_type": "markdown",
   "id": "a083e2ff",
   "metadata": {},
   "source": [
    "2) From the Pillow module, how do you get the RGBA value of any images?"
   ]
  },
  {
   "cell_type": "markdown",
   "id": "acccd7b2",
   "metadata": {},
   "source": [
    "from PIL import Image\n",
    "\n",
    "im = Image.open(\"image.png\")\n",
    "im_alpha = im.convert('RGBA')\n",
    "Pixels = list(im.getdata())"
   ]
  },
  {
   "cell_type": "markdown",
   "id": "a03a4a49",
   "metadata": {},
   "source": [
    "3) What is a box tuple, and how does it work?"
   ]
  },
  {
   "cell_type": "markdown",
   "id": "1f9f5bf8",
   "metadata": {},
   "source": [
    "A box tuple is a tuple value of four integers: the left edge x-coordinate, the top edge y-coordinate, the width, and the height, respectively"
   ]
  },
  {
   "cell_type": "markdown",
   "id": "acfbf621",
   "metadata": {},
   "source": [
    "4. Use your image and load in notebook then, How can you find out the width and height of an\n",
    "Image object?"
   ]
  },
  {
   "cell_type": "markdown",
   "id": "1c7d6b01",
   "metadata": {},
   "source": [
    "from PIL import Image\n",
    "\n",
    "filepath = \"image.png\"\n",
    "img = Image.open(filepath)\n",
    "  \n",
    "width = img.width\n",
    "height = img.height\n",
    "  \n",
    "print(\"The height of the image is: \", height)\n",
    "print(\"The width of the image is: \", width)"
   ]
  },
  {
   "cell_type": "markdown",
   "id": "dfe25ba1",
   "metadata": {},
   "source": [
    "5) What method would you call to get Image object for a 100×100 image, excluding the lower-left\n",
    "quarter of it?"
   ]
  },
  {
   "cell_type": "markdown",
   "id": "c0a92d34",
   "metadata": {},
   "source": [
    "imageObj.crop((0, 50, 50, 50)). Notice that you are passing a box tuple to crop(), not four separate integer arguments."
   ]
  },
  {
   "cell_type": "markdown",
   "id": "5efd98a0",
   "metadata": {},
   "source": [
    "6)  After making changes to an Image object, how could you save it as an image file?"
   ]
  },
  {
   "cell_type": "markdown",
   "id": "12a091c3",
   "metadata": {},
   "source": [
    "Will use, \n",
    "\n",
    "Call the imageObj.save('new_image.png') method of the Image object."
   ]
  },
  {
   "cell_type": "markdown",
   "id": "d1a6ddcc",
   "metadata": {},
   "source": [
    "7) What module contains Pillow’s shape-drawing code?"
   ]
  },
  {
   "cell_type": "markdown",
   "id": "9afae51b",
   "metadata": {},
   "source": [
    "ImageDraw module"
   ]
  },
  {
   "cell_type": "markdown",
   "id": "b2c34d77",
   "metadata": {},
   "source": [
    "8) Image objects do not have drawing methods. What kind of object does? How do you get this kind\n",
    "of object?"
   ]
  },
  {
   "cell_type": "markdown",
   "id": "853a6c94",
   "metadata": {},
   "source": [
    "ImageDraw objects have shape-drawing methods such as point(), line(), or rectangle(). They are returned by passing the Image object to the ImageDraw.Draw() function."
   ]
  }
 ],
 "metadata": {
  "kernelspec": {
   "display_name": "Python 3 (ipykernel)",
   "language": "python",
   "name": "python3"
  },
  "language_info": {
   "codemirror_mode": {
    "name": "ipython",
    "version": 3
   },
   "file_extension": ".py",
   "mimetype": "text/x-python",
   "name": "python",
   "nbconvert_exporter": "python",
   "pygments_lexer": "ipython3",
   "version": "3.9.12"
  }
 },
 "nbformat": 4,
 "nbformat_minor": 5
}
