{
 "cells": [
  {
   "cell_type": "markdown",
   "id": "caec7669",
   "metadata": {},
   "source": [
    "1) In what modes should the PdfFileReader() and PdfFileWriter() File objects will be opened?"
   ]
  },
  {
   "cell_type": "markdown",
   "id": "1b06502a",
   "metadata": {},
   "source": [
    "The PdfFileReader and PdfFileWriter objects in Python are typically opened in binary mode, using the 'rb' and 'wb' modes, respectively."
   ]
  },
  {
   "cell_type": "markdown",
   "id": "6c8eac3f",
   "metadata": {},
   "source": [
    "2) From a PdfFileReader object, how do you get a Page object for page 5?"
   ]
  },
  {
   "cell_type": "markdown",
   "id": "147520db",
   "metadata": {},
   "source": [
    "we can get the 5th page from a pdfFileReader() object by using getpage(4) "
   ]
  },
  {
   "cell_type": "markdown",
   "id": "a9266437",
   "metadata": {},
   "source": [
    "3) What PdfFileReader variable stores the number of pages in the PDF document?"
   ]
  },
  {
   "cell_type": "markdown",
   "id": "16d052ea",
   "metadata": {},
   "source": [
    "in pdf document the numpages variable gives the number of pages in the PDF doc"
   ]
  },
  {
   "cell_type": "markdown",
   "id": "673ffb06",
   "metadata": {},
   "source": [
    "4) If a PdfFileReader object’s PDF is encrypted with the password swordfish, what must you do\n",
    "before you can obtain Page objects from it?"
   ]
  },
  {
   "cell_type": "markdown",
   "id": "75b8fd20",
   "metadata": {},
   "source": [
    "If a PDF file is encrypted with a password, you need to provide the correct password to the PdfFileReader object before you can access the contents of the file. This is done using the decrypt method of the PdfFileReader object."
   ]
  },
  {
   "cell_type": "markdown",
   "id": "ca8eda6c",
   "metadata": {},
   "source": [
    "5) What methods do you use to rotate a page?"
   ]
  },
  {
   "cell_type": "markdown",
   "id": "fb047f01",
   "metadata": {},
   "source": [
    "To rotate a page in Python using the PyPDF2 library, you can use the rotateClockwise method of the Page object."
   ]
  },
  {
   "cell_type": "markdown",
   "id": "bc9be337",
   "metadata": {},
   "source": [
    "6) What is the difference between a Run object and a Paragraph object?"
   ]
  },
  {
   "cell_type": "markdown",
   "id": "0846e8cc",
   "metadata": {},
   "source": [
    "A Run object and a Paragraph object are concepts from the python-docx library, which is a library for creating, reading, and modifying Microsoft Word documents.\n",
    "\n",
    "A Paragraph object represents a paragraph in a Word document, and contains one or more Run objects. A Run object represents a range of text within a paragraph that has the same formatting. This allows you to apply different formatting styles to different parts of a paragraph."
   ]
  },
  {
   "cell_type": "markdown",
   "id": "b62dd7d0",
   "metadata": {},
   "source": [
    "7) How do you obtain a list of Paragraph objects for a Document object that’s stored in a variable\n",
    "named doc?"
   ]
  },
  {
   "cell_type": "markdown",
   "id": "639dd362",
   "metadata": {},
   "source": [
    "To obtain a list of Paragraph objects for a Document object that's stored in a variable named doc, you can use the paragraphs property of the doc object."
   ]
  },
  {
   "cell_type": "markdown",
   "id": "5199eff5",
   "metadata": {},
   "source": [
    "8) What type of object has bold, underline, italic, strike, and outline variables?"
   ]
  },
  {
   "cell_type": "markdown",
   "id": "71f425b7",
   "metadata": {},
   "source": [
    "An object with bold, underline, italic, strike, and outline variables is likely a Run object from the python-docx library.\n",
    "\n"
   ]
  },
  {
   "cell_type": "markdown",
   "id": "ab640f52",
   "metadata": {},
   "source": [
    "9) What is the difference between False, True, and None for the bold variable?"
   ]
  },
  {
   "cell_type": "markdown",
   "id": "a11dd399",
   "metadata": {},
   "source": [
    "The bold variable is a boolean property of a Run object in the python-docx library, which is used to specify whether the text in the run should be bold or not.\n",
    "\n",
    "True: If the bold variable is set to True, the text in the run will be bold.\n",
    "\n",
    "False: If the bold variable is set to False, the text in the run will not be bold.\n",
    "\n",
    "None: If the bold variable is set to None, it means that the bold formatting for the run has not been specified and its value is unknown."
   ]
  },
  {
   "cell_type": "markdown",
   "id": "10377bf5",
   "metadata": {},
   "source": [
    "10) How do you create a Document object for a new Word document?"
   ]
  },
  {
   "cell_type": "markdown",
   "id": "3455abd3",
   "metadata": {},
   "source": [
    "To create a new Word document using the python-docx library, you can use the Document class from the docx module. "
   ]
  },
  {
   "cell_type": "markdown",
   "id": "7b9787d6",
   "metadata": {},
   "source": [
    "11) How do you add a paragraph with the text &#39;Hello, there!&#39; to a Document object stored in a\n",
    "variable named doc?"
   ]
  },
  {
   "cell_type": "markdown",
   "id": "98ebd9ed",
   "metadata": {},
   "source": [
    "To add a paragraph with the text \"Hello, there!\" to a Document object stored in a variable named doc, you can use the add_paragraph method of the Document object."
   ]
  },
  {
   "cell_type": "markdown",
   "id": "0eca926e",
   "metadata": {},
   "source": [
    "12) What integers represent the levels of headings available in Word documents?"
   ]
  },
  {
   "cell_type": "markdown",
   "id": "a2144ed8",
   "metadata": {},
   "source": [
    "there are total of 9 types of headings right from 1 to 9 these are used to create outlines, table of contents, etc"
   ]
  }
 ],
 "metadata": {
  "kernelspec": {
   "display_name": "Python 3 (ipykernel)",
   "language": "python",
   "name": "python3"
  },
  "language_info": {
   "codemirror_mode": {
    "name": "ipython",
    "version": 3
   },
   "file_extension": ".py",
   "mimetype": "text/x-python",
   "name": "python",
   "nbconvert_exporter": "python",
   "pygments_lexer": "ipython3",
   "version": "3.9.12"
  }
 },
 "nbformat": 4,
 "nbformat_minor": 5
}
