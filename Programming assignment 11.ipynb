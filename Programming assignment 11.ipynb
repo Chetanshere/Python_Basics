{
 "cells": [
  {
   "cell_type": "markdown",
   "id": "3f559ac5",
   "metadata": {},
   "source": [
    "1) Write a Python program to find words which are greater than given length k?"
   ]
  },
  {
   "cell_type": "code",
   "execution_count": 2,
   "id": "ab86d2f4",
   "metadata": {},
   "outputs": [
    {
     "name": "stdout",
     "output_type": "stream",
     "text": [
      "['programming', 'python', 'jupyter', 'notebook']\n"
     ]
    }
   ],
   "source": [
    "def find_words(t, k):\n",
    "    #To Split the text into a list of words\n",
    "    words = t.split()\n",
    "\n",
    "    #To Filter the words to include only those that are longer than k characters\n",
    "    long_words = [word for word in words if len(word) > k]\n",
    "\n",
    "    #This code Returns the list of long words\n",
    "    return long_words\n",
    "\n",
    "t = \"I love programming in python using jupyter notebook\"\n",
    "k = 5\n",
    "long_words = find_words(t, k)\n",
    "print(long_words)\n"
   ]
  },
  {
   "cell_type": "markdown",
   "id": "0dc8642d",
   "metadata": {},
   "source": [
    "2) Write a Python program for removing i-th character from a string?"
   ]
  },
  {
   "cell_type": "code",
   "execution_count": 5,
   "id": "b867fd35",
   "metadata": {},
   "outputs": [
    {
     "name": "stdout",
     "output_type": "stream",
     "text": [
      "Mesopotaia\n"
     ]
    }
   ],
   "source": [
    "def remove_ith_char(S, i):\n",
    "    #To Create a new string without the i-th character\n",
    "    return S[:i] + S[i+1:]\n",
    "\n",
    "S = \"Mesopotamia\"\n",
    "i = 8\n",
    "New_String = remove_ith_char(S, i)\n",
    "print(New_String)\n"
   ]
  },
  {
   "cell_type": "markdown",
   "id": "6062aee3",
   "metadata": {},
   "source": [
    "3) Write a Python program to split and join a string?"
   ]
  },
  {
   "cell_type": "code",
   "execution_count": 6,
   "id": "72a1c33f",
   "metadata": {},
   "outputs": [
    {
     "name": "stdout",
     "output_type": "stream",
     "text": [
      "This is the sample sentence\n"
     ]
    }
   ],
   "source": [
    "def split_and_join(S):\n",
    "    #To Split the string into a list of words\n",
    "    words = S.split()\n",
    "\n",
    "    #To Join the list of words back into a string\n",
    "    return \" \".join(words)\n",
    "\n",
    "S = \"This is the sample sentence\"\n",
    "new_string = split_and_join(S)\n",
    "print(new_string)"
   ]
  },
  {
   "cell_type": "markdown",
   "id": "250f07bc",
   "metadata": {},
   "source": [
    "4) Write a Python to check if a given string is binary string or not?"
   ]
  },
  {
   "cell_type": "code",
   "execution_count": 10,
   "id": "1a435f1e",
   "metadata": {},
   "outputs": [
    {
     "name": "stdout",
     "output_type": "stream",
     "text": [
      "True\n"
     ]
    }
   ],
   "source": [
    "def is_binary_str(s):\n",
    "    \n",
    "    for i in s:\n",
    "        i=='0' or i=='1'\n",
    "        return i\n",
    "s='01010101'    \n",
    "result=is_binary_str(s)   \n",
    "if result=='0':\n",
    "    print(\"True\")\n",
    "else:\n",
    "    print(\"False\")    \n",
    "    \n",
    "    "
   ]
  },
  {
   "cell_type": "markdown",
   "id": "454e641d",
   "metadata": {},
   "source": [
    "5) Write a Python program to find uncommon words from two Strings?"
   ]
  },
  {
   "cell_type": "code",
   "execution_count": 11,
   "id": "fa430b25",
   "metadata": {},
   "outputs": [
    {
     "name": "stdout",
     "output_type": "stream",
     "text": [
      "['In', 'Maharashtra']\n"
     ]
    }
   ],
   "source": [
    "def uncommon_words(s1, s2):\n",
    "    #To Split the strings into lists of words\n",
    "    words1 = s1.split()\n",
    "    words2 = s2.split()\n",
    "\n",
    "    #To Use set operations to find uncommon words\n",
    "    uncommon = set(words1) ^ set(words2)\n",
    "\n",
    "    #To Convert the set of uncommon words back into a list\n",
    "    return list(uncommon)\n",
    "\n",
    "s1 = \"I am resident of India\"\n",
    "s2 = \"In India I am resident of Maharashtra\"\n",
    "uncommon = uncommon_words(s1, s2)\n",
    "print(uncommon)\n"
   ]
  },
  {
   "cell_type": "markdown",
   "id": "ee397d1b",
   "metadata": {},
   "source": [
    "6) Write a Python to find all duplicate characters in string?"
   ]
  },
  {
   "cell_type": "code",
   "execution_count": 13,
   "id": "7be124dc",
   "metadata": {},
   "outputs": [
    {
     "name": "stdout",
     "output_type": "stream",
     "text": [
      "['H', 'l', 'o']\n"
     ]
    }
   ],
   "source": [
    "def find_duplicates(s):\n",
    "    count_char = {}\n",
    "    for i in s:\n",
    "        if i in count_char:\n",
    "            count_char[i] += 1\n",
    "        else:\n",
    "            count_char[i] = 1\n",
    "\n",
    "    Duplicates = [i for i in count_char if count_char[i] > 1]\n",
    "    return Duplicates\n",
    "\n",
    "s = \"Hello pytHon\"\n",
    "Duplicates = find_duplicates(s)\n",
    "print(Duplicates)\n"
   ]
  },
  {
   "cell_type": "markdown",
   "id": "afd91ab3",
   "metadata": {},
   "source": [
    "7) Write a Python Program to check if a string contains any special character?"
   ]
  },
  {
   "cell_type": "code",
   "execution_count": 14,
   "id": "5704a795",
   "metadata": {},
   "outputs": [
    {
     "name": "stdout",
     "output_type": "stream",
     "text": [
      "True\n"
     ]
    }
   ],
   "source": [
    "import re\n",
    "\n",
    "def has_special_char(s):\n",
    "    # Define a regular expression pattern that matches any non-alphanumeric character\n",
    "    pattern = r\"[^a-zA-Z0-9]\"\n",
    "\n",
    "    # Use the `re.search` function to search for a match in the string\n",
    "    match = re.search(pattern, s)\n",
    "\n",
    "    # If a match is found, return True\n",
    "    if match:\n",
    "        return True\n",
    "    # Otherwise, return False\n",
    "    else:\n",
    "        return False\n",
    "\n",
    "s = \"hello world!\"\n",
    "result = has_special_char(s)\n",
    "print(result)\n"
   ]
  },
  {
   "cell_type": "code",
   "execution_count": null,
   "id": "e0fd20f3",
   "metadata": {},
   "outputs": [],
   "source": []
  }
 ],
 "metadata": {
  "kernelspec": {
   "display_name": "Python 3 (ipykernel)",
   "language": "python",
   "name": "python3"
  },
  "language_info": {
   "codemirror_mode": {
    "name": "ipython",
    "version": 3
   },
   "file_extension": ".py",
   "mimetype": "text/x-python",
   "name": "python",
   "nbconvert_exporter": "python",
   "pygments_lexer": "ipython3",
   "version": "3.9.12"
  }
 },
 "nbformat": 4,
 "nbformat_minor": 5
}
